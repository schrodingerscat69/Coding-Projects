{
 "cells": [
  {
   "cell_type": "code",
   "execution_count": 35,
   "id": "efab5663",
   "metadata": {},
   "outputs": [
    {
     "name": "stdout",
     "output_type": "stream",
     "text": [
      "Using the modified method : 1.28585 with 2 steps\n",
      "Using the normal method : 1.3399999999999999 with 2 steps\n",
      "0.05414999999999992\n"
     ]
    }
   ],
   "source": [
    "from math import *\n",
    "\n",
    "def f(x,y):\n",
    "    return (3/2) - x - (y/2)\n",
    "\n",
    "x_0 = 0\n",
    "y_0 = 1\n",
    "h = 0.2 # step size\n",
    "\n",
    "def modified_euler(n):\n",
    "    x = x_0\n",
    "    y = y_0\n",
    "    for i in range(n):\n",
    "        y_np = y + h * f(x,y)\n",
    "        avg = (f(x,y) + f(x+h, y_np)) / 2\n",
    "        y = y + h * avg\n",
    "        x = x + h\n",
    "    return y\n",
    "\n",
    "print(\"Using the modified method :\" , modified_euler(2), \"with\",n, \"steps\")\n",
    "\n",
    "def euler(n):\n",
    "    x = x_0\n",
    "    y = y_0\n",
    "    for i in range(n):\n",
    "        y = y + h * f(x,y)\n",
    "        x += h\n",
    "    return y\n",
    "\n",
    "print(\"Using the normal method :\",euler(2), \"with\",n, \"steps\")\n",
    "\n",
    "abs_error = abs(modified_euler(n)- euler(n))\n",
    "print(abs_error)"
   ]
  }
 ],
 "metadata": {
  "kernelspec": {
   "display_name": "Python 3 (ipykernel)",
   "language": "python",
   "name": "python3"
  },
  "language_info": {
   "codemirror_mode": {
    "name": "ipython",
    "version": 3
   },
   "file_extension": ".py",
   "mimetype": "text/x-python",
   "name": "python",
   "nbconvert_exporter": "python",
   "pygments_lexer": "ipython3",
   "version": "3.11.5"
  }
 },
 "nbformat": 4,
 "nbformat_minor": 5
}
