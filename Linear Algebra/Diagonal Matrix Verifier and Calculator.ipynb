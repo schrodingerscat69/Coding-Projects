{
 "cells": [
  {
   "cell_type": "code",
   "execution_count": 23,
   "id": "d94a366d",
   "metadata": {},
   "outputs": [
    {
     "name": "stdout",
     "output_type": "stream",
     "text": [
      "The matrix is diagonalizable.\n",
      "Diagonal matrix D:\n",
      " [[3. 0.]\n",
      " [0. 2.]]\n",
      "(True, array([[10.4244289,  0.       ,  0.       ],\n",
      "       [ 0.       ,  0.5755711,  0.       ],\n",
      "       [ 0.       ,  0.       ,  1.       ]]))\n",
      "(True, array([[0.42140986+0.j      , 0.        +0.j      , 0.        +0.j      ],\n",
      "       [0.        +0.j      , 1.78929507+2.508061j, 0.        +0.j      ],\n",
      "       [0.        +0.j      , 0.        +0.j      , 1.78929507-2.508061j]]))\n",
      "(True, array([[ 1.,  0.,  0.],\n",
      "       [ 0.,  2.,  0.],\n",
      "       [ 0.,  0., -2.]]))\n",
      "(False, None)\n",
      "(True, array([[1., 0., 0.],\n",
      "       [0., 1., 0.],\n",
      "       [0., 0., 1.]]))\n"
     ]
    }
   ],
   "source": [
    "import numpy as np\n",
    "\n",
    "# Function takes any nxn matrix and first determines if it is diagonalizable,\n",
    "#  if true, then returns the diagonal matrix, if false, returns None.\n",
    "def diagonalize_matrix(matrix):\n",
    "    eigenvalues, eigenvectors = np.linalg.eig(matrix)\n",
    "\n",
    "    for eigenvalue in eigenvalues:\n",
    "        alg_multiplicity = np.count_nonzero(np.isclose(eigenvalues, eigenvalue))\n",
    "        geom_multiplicity = np.linalg.matrix_rank(eigenvectors[:, np.isclose(eigenvalues, eigenvalue)])\n",
    "\n",
    "        if alg_multiplicity != geom_multiplicity:\n",
    "            return False, None\n",
    "\n",
    "    # Form the matrix of eigenvectors (P) and the diagonal matrix (D)\n",
    "    P = eigenvectors\n",
    "    D = np.diag(eigenvalues)\n",
    "\n",
    "    return True, D\n",
    "\n",
    "# Example usage:\n",
    "A = np.array([[4, -2], [1, 1]])\n",
    "\n",
    "diagonalizable, D = diagonalize_matrix(A)\n",
    "if diagonalizable:\n",
    "    print(\"The matrix is diagonalizable.\")\n",
    "    print(\"Diagonal matrix D:\\n\", D)\n",
    "else:\n",
    "    print(\"The matrix is not diagonalizable.\")\n",
    "\n",
    "# Tests:\n",
    "print(diagonalize_matrix(np.array([[1,1,1],[4,9,8],[0,1,2]])))\n",
    "print(diagonalize_matrix(np.array([[1,-1,0],[2,1,2],[3,-2,2]])))\n",
    "print(diagonalize_matrix(np.array([[1,2,-3],[0,0,2],[0,2,0]])))\n",
    "print(diagonalize_matrix(np.array([[1,1],[0,1]])))\n",
    "print(diagonalize_matrix(np.array([[1,0,0],[0,1,0],[0,0,1]])))"
   ]
  },
  {
   "cell_type": "code",
   "execution_count": 21,
   "id": "be415f33",
   "metadata": {},
   "outputs": [
    {
     "name": "stdout",
     "output_type": "stream",
     "text": [
      "[[100   4  17]\n",
      " [ 45  38  72]\n",
      " [ 22  75  43]]\n",
      "(True, array([[122.76602303,   0.        ,   0.        ],\n",
      "       [  0.        ,  15.43789959,   0.        ],\n",
      "       [  0.        ,   0.        ,  33.79607738]]))\n"
     ]
    }
   ],
   "source": [
    "# Using Random Arrays to test the function above\n",
    "\n",
    "def random_matrix(a, b, c):\n",
    "    matrix = np.random.randint(a,b,size=(c,c))\n",
    "    \n",
    "    return matrix\n",
    "print(random_matrix(1,101,3))\n",
    "print(diagonalize_matrix(random_matrix(1, 101, 3)))"
   ]
  },
  {
   "cell_type": "code",
   "execution_count": 25,
   "id": "c6188783",
   "metadata": {},
   "outputs": [
    {
     "data": {
      "image/png": "[encoded data removed]",
      "text/plain": [
       "<Figure size 640x480 with 1 Axes>"
      ]
     },
     "metadata": {},
     "output_type": "display_data"
    }
   ],
   "source": [
    "import matplotlib.pyplot as plt\n",
    "\n",
    "plt.imshow(random_matrix(1,11,3))\n",
    "plt.show()"
   ]
  }
 ],
 "metadata": {
  "kernelspec": {
   "display_name": "Python 3 (ipykernel)",
   "language": "python",
   "name": "python3"
  },
  "language_info": {
   "codemirror_mode": {
    "name": "ipython",
    "version": 3
   },
   "file_extension": ".py",
   "mimetype": "text/x-python",
   "name": "python",
   "nbconvert_exporter": "python",
   "pygments_lexer": "ipython3",
   "version": "3.11.5"
  }
 },
 "nbformat": 4,
 "nbformat_minor": 5
}
