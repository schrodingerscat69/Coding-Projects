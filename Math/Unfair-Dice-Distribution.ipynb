{
 "cells": [
  {
   "cell_type": "code",
   "execution_count": 3,
   "id": "0f775f53-541b-4e52-8537-6bd3c3fea12d",
   "metadata": {},
   "outputs": [
    {
     "data": {
      "application/vnd.jupyter.widget-view+json": {
       "model_id": "5d976a31a7a34ab598ca2c072b871356",
       "version_major": 2,
       "version_minor": 0
      },
      "text/plain": [
       "interactive(children=(IntSlider(value=5, description='Dice Count', max=1000, min=1), IntSlider(value=10000, de…"
      ]
     },
     "metadata": {},
     "output_type": "display_data"
    },
    {
     "data": {
      "text/plain": [
       "<function __main__.monte_carlo_unfair_dice(n_dice=5, trials=10000)>"
      ]
     },
     "execution_count": 3,
     "metadata": {},
     "output_type": "execute_result"
    }
   ],
   "source": [
    "import numpy as np\n",
    "import matplotlib.pyplot as plt\n",
    "from ipywidgets import interact, IntSlider\n",
    "%matplotlib widget\n",
    "\n",
    "# Define the custom unfair dice face values and probabilities\n",
    "faces = np.array([1, 2, 3, 4, 5, 6])\n",
    "probs = np.array([0.17, 0.37, 0.11, 0.16, 0.09, 0.10])\n",
    "\n",
    "# Monte Carlo simulator function\n",
    "def monte_carlo_unfair_dice(n_dice=5, trials=10000):\n",
    "    # Simulate trials\n",
    "    sums = np.array([\n",
    "        np.sum(np.random.choice(faces, size=n_dice, p=probs))\n",
    "        for _ in range(trials)\n",
    "    ])\n",
    "\n",
    "    # Clear and plot\n",
    "    plt.clf()\n",
    "    plt.hist(sums, bins=range(n_dice, n_dice * 6 + 2), density=True,\n",
    "             color='skyblue', edgecolor='black')\n",
    "    plt.title(f\"Monte Carlo Simulation\\nSum of {n_dice} Unfair Dice Rolls\")\n",
    "    plt.xlabel(\"Sum\")\n",
    "    plt.ylabel(\"Relative Frequency\")\n",
    "    plt.grid(True)\n",
    "    plt.tight_layout()\n",
    "    plt.show()\n",
    "\n",
    "# Create interactive widget\n",
    "interact(\n",
    "    monte_carlo_unfair_dice,\n",
    "    n_dice=IntSlider(min=1, max=1000, step=1, value=5, description='Dice Count')\n",
    ")\n"
   ]
  }
 ],
 "metadata": {
  "kernelspec": {
   "display_name": "Python 3 (ipykernel)",
   "language": "python",
   "name": "python3"
  },
  "language_info": {
   "codemirror_mode": {
    "name": "ipython",
    "version": 3
   },
   "file_extension": ".py",
   "mimetype": "text/x-python",
   "name": "python",
   "nbconvert_exporter": "python",
   "pygments_lexer": "ipython3",
   "version": "3.12.5"
  }
 },
 "nbformat": 4,
 "nbformat_minor": 5
}
