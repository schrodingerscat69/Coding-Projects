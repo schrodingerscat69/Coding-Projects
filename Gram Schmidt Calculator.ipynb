{
 "cells": [
  {
   "cell_type": "code",
   "execution_count": 2,
   "id": "59b51998",
   "metadata": {},
   "outputs": [
    {
     "name": "stdout",
     "output_type": "stream",
     "text": [
      "[[ 0.36514837 -0.91287093  0.18257419]\n",
      " [ 0.81649658  0.40824829  0.40824829]]\n"
     ]
    }
   ],
   "source": [
    "import numpy as np\n",
    "#import fractions\n",
    "#np.set_printoptions(formatter={'all':lambda x: str(fractions.Fraction(x))})\n",
    "# Function takes an array of vectors and produces an orthonormal basis\n",
    "\n",
    "def gram_schmidt_calc(vec_array):\n",
    "    orthogonal_basis = []\n",
    "    \n",
    "    for vec in vec_array:\n",
    "        for u in orthogonal_basis:\n",
    "            vec = vec - np.inner(vec,u) * u\n",
    "        vec = vec / np.linalg.norm(vec)\n",
    "        orthogonal_basis.append(vec)\n",
    "        \n",
    "    return np.array(orthogonal_basis)\n",
    "\n",
    "A = np.array([[2,-5,1],[4,-1,2]])\n",
    "print(gram_schmidt_calc(A))"
   ]
  }
 ],
 "metadata": {
  "kernelspec": {
   "display_name": "Python 3 (ipykernel)",
   "language": "python",
   "name": "python3"
  },
  "language_info": {
   "codemirror_mode": {
    "name": "ipython",
    "version": 3
   },
   "file_extension": ".py",
   "mimetype": "text/x-python",
   "name": "python",
   "nbconvert_exporter": "python",
   "pygments_lexer": "ipython3",
   "version": "3.11.5"
  }
 },
 "nbformat": 4,
 "nbformat_minor": 5
}
